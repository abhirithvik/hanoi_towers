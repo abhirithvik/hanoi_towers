{
 "cells": [
  {
   "cell_type": "markdown",
   "id": "672565e2",
   "metadata": {},
   "source": [
    "### HANOI TOWERS:"
   ]
  },
  {
   "cell_type": "markdown",
   "id": "dd2e95f8",
   "metadata": {},
   "source": [
    "![](https://static.javatpoint.com/python/images/tower-of-hanoi-puzzle-using-python.png)"
   ]
  },
  {
   "cell_type": "code",
   "execution_count": 17,
   "id": "8ffaf08a",
   "metadata": {},
   "outputs": [],
   "source": [
    "a = 'Tower A' \n",
    "b = 'Tower B' \n",
    "c = 'Tower C' \n",
    "def honoi(n, a, b, c):\n",
    "    if n == 1:\n",
    "        print(\"moves 1st disc from\", a,\"to the\", c)\n",
    "        return\n",
    "    honoi(n-1, a, c, b)\n",
    "    print(\"move \",n,\"th disc from\", a, \"to the\", c)\n",
    "    honoi(n-1, b, a, c)    \n",
    "        \n",
    "    "
   ]
  },
  {
   "cell_type": "code",
   "execution_count": 19,
   "id": "28dffeca",
   "metadata": {},
   "outputs": [
    {
     "name": "stdout",
     "output_type": "stream",
     "text": [
      "moves 1st disc from Tower A to the Tower B\n",
      "move  2 th disc from Tower A to the Tower C\n",
      "moves 1st disc from Tower B to the Tower C\n"
     ]
    }
   ],
   "source": [
    "honoi_tower(2, a, b, c)"
   ]
  },
  {
   "cell_type": "markdown",
   "id": "81564384",
   "metadata": {},
   "source": [
    "### honoi towers:\n",
    "* The Tower of Hanoi is the problem in which there are 3 towers, let's mark it with the names Tower A, Tower B, and Tower C. And in Tower A, we have n number of disks. And the task is to move all disks from Tower A to Tower C using Tower B. "
   ]
  },
  {
   "cell_type": "markdown",
   "id": "99b3d572",
   "metadata": {},
   "source": [
    "* Tower A is the first tower,and Tower B is the helper and Tower C is the last tower."
   ]
  },
  {
   "cell_type": "markdown",
   "id": "01a05e7d",
   "metadata": {},
   "source": [
    "### most imp points:\n",
    "* we can move only 1 disc at a time.\n",
    "* we can place the smaller disc on the larger disc.\n",
    "* but we cant place the larger disc on the smaller disc.\n"
   ]
  },
  {
   "cell_type": "markdown",
   "id": "bae8c692",
   "metadata": {},
   "source": [
    "### process:\n",
    "* i am having 2 discs larger one and smaller one.the smaller disc is placed on the larger disc.\n",
    "* so now i will move smaller disc from tower A to the tower c.\n",
    "* now i will move larger disc from tower A to the tower c.\n",
    "* here i am not placing any disc on the tower B,tower B is used as the helper to move disc from one tower to another tower.\n",
    "* here i have only 2 discs so i can move directly both discs by one after one. "
   ]
  },
  {
   "cell_type": "code",
   "execution_count": 20,
   "id": "db9945a0",
   "metadata": {},
   "outputs": [],
   "source": [
    "a = 'Tower A' \n",
    "b = 'Tower B' \n",
    "c = 'Tower C' \n",
    "def honoi(n, a, b, c):\n",
    "    if n == 1:\n",
    "        print(\"moves 1st disc from\", a,\"to the\", c)\n",
    "        return\n",
    "    honoi(n-1, a, c, b)\n",
    "    print(\"move \",n,\"th disc from\", a, \"to the\", c)\n",
    "    honoi(n-1, b, a, c) "
   ]
  },
  {
   "cell_type": "code",
   "execution_count": 21,
   "id": "efb3c581",
   "metadata": {},
   "outputs": [
    {
     "name": "stdout",
     "output_type": "stream",
     "text": [
      "moves 1st disc from Tower A to the Tower B\n",
      "move  2 th disc from Tower A to the Tower C\n",
      "moves 1st disc from Tower B to the Tower C\n",
      "move  3 th disc from Tower A to the Tower B\n",
      "moves 1st disc from Tower C to the Tower A\n",
      "move  2 th disc from Tower C to the Tower B\n",
      "moves 1st disc from Tower A to the Tower B\n",
      "move  4 th disc from Tower A to the Tower C\n",
      "moves 1st disc from Tower B to the Tower C\n",
      "move  2 th disc from Tower B to the Tower A\n",
      "moves 1st disc from Tower C to the Tower A\n",
      "move  3 th disc from Tower B to the Tower C\n",
      "moves 1st disc from Tower A to the Tower B\n",
      "move  2 th disc from Tower A to the Tower C\n",
      "moves 1st disc from Tower B to the Tower C\n"
     ]
    }
   ],
   "source": [
    "honoi_tower(4, a, b, c)"
   ]
  },
  {
   "cell_type": "code",
   "execution_count": null,
   "id": "3bdf57e5",
   "metadata": {},
   "outputs": [],
   "source": []
  }
 ],
 "metadata": {
  "kernelspec": {
   "display_name": "Python 3 (ipykernel)",
   "language": "python",
   "name": "python3"
  },
  "language_info": {
   "codemirror_mode": {
    "name": "ipython",
    "version": 3
   },
   "file_extension": ".py",
   "mimetype": "text/x-python",
   "name": "python",
   "nbconvert_exporter": "python",
   "pygments_lexer": "ipython3",
   "version": "3.11.2"
  }
 },
 "nbformat": 4,
 "nbformat_minor": 5
}
